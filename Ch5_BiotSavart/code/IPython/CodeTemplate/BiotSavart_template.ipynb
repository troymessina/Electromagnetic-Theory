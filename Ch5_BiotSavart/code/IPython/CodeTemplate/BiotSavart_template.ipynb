{
 "cells": [
  {
   "cell_type": "code",
   "execution_count": 1,
   "metadata": {
    "collapsed": false
   },
   "outputs": [],
   "source": [
    "%matplotlib inline"
   ]
  },
  {
   "cell_type": "code",
   "execution_count": 2,
   "metadata": {
    "collapsed": true
   },
   "outputs": [],
   "source": [
    "import numpy\n",
    "import scipy.interpolate\n",
    "import scipy.integrate\n",
    "\n",
    "import matplotlib.pyplot as mpl"
   ]
  },
  {
   "cell_type": "code",
   "execution_count": 3,
   "metadata": {
    "collapsed": true
   },
   "outputs": [],
   "source": [
    "# Parameters for plot attributes\n",
    "mpl.rc(\"xtick\", labelsize=\"large\")\n",
    "mpl.rc(\"ytick\", labelsize=\"large\")\n",
    "mpl.rc(\"axes\", labelsize=\"xx-large\")\n",
    "mpl.rc(\"axes\", titlesize=\"xx-large\")\n",
    "mpl.rc(\"figure\", figsize=(8,8))"
   ]
  },
  {
   "cell_type": "markdown",
   "metadata": {
    "collapsed": true
   },
   "source": [
    "# Calculating the Magnetic Field with the Biot-Savart Law\n",
    "According to the Biot-Savart law, \n",
    "$$ \\vec{B}(\\vec{r})=\\frac{\\mu_{0}I}{4\\pi}\\int\\frac{\\mathrm{d}\\vec{\\ell}\\ '\\times\\left(\\vec{r}-\\vec{r}\\ '\\right)}{\\left\\vert \\vec{r}-\\vec{r}\\ '\\right\\vert ^{3}}. $$\n",
    "\n",
    "For a curve parameterized as $ \\vec{\\ell} = \\left\\lbrack x(t), y(t), z(t) \\right\\rbrack $, we can express the differential element as\n",
    "$$ \\mathrm{d}\\vec{\\ell} = \\left\\lbrack \\frac{\\mathrm{d}x}{\\mathrm{d}t}, \\frac{\\mathrm{d}y}{\\mathrm{d}t}, \\frac{\\mathrm{d}z}{\\mathrm{d}t} \\right\\rbrack \\mathrm{d}t. $$\n",
    "\n",
    "It is convenient to let this parameter $t$ run from $0$ (at the beginning point of the curve) to $1$ (at the ending point of the curve).  "
   ]
  },
  {
   "cell_type": "code",
   "execution_count": 4,
   "metadata": {
    "collapsed": true
   },
   "outputs": [],
   "source": [
    "# Constants\n",
    "mu0 = numpy.pi * 4.0E-7\n",
    "Ic = 1.0   # current, in Amps"
   ]
  },
  {
   "cell_type": "code",
   "execution_count": 6,
   "metadata": {
    "collapsed": true
   },
   "outputs": [],
   "source": [
    "# define the integration kernels, component-by-component\n",
    "# arguments:\n",
    "# t = parameter that specifies curve location\n",
    "# vecL = array of the three functions x(t), y(t), z(t)\n",
    "# vecR = array of the spatial coordinates where the B field is being calculated\n",
    "def kernelx(t, vecL, vecR):\n",
    "    pass\n",
    "    # calculate the tangent to the curve\n",
    "    # calculate the cross product (the numerator)\n",
    "    # calculate the denominator \n",
    "    # combine, and return the value\n",
    "\n",
    "def kernely(t, vecL, vecR):\n",
    "    pass\n",
    "    # calculate the tangent to the curve\n",
    "    # calculate the cross product (the numerator)\n",
    "    # calculate the denominator \n",
    "    # combine, and return the value\n",
    "\n",
    "def kernelz(t, vecL, vecR):\n",
    "    pass\n",
    "    # calculate the tangent to the curve\n",
    "    # calculate the cross product (the numerator)\n",
    "    # calculate the denominator \n",
    "    # combine, and return the value"
   ]
  },
  {
   "cell_type": "code",
   "execution_count": 7,
   "metadata": {
    "collapsed": true
   },
   "outputs": [],
   "source": [
    "# arguments:\n",
    "# vecL: the parameterized curve, with splines [x(t), y(t), z(t)].\n",
    "# vecR: the spatial grid location $\\vec{r}$, at which the magnetic field is calculated.\n",
    "# returns: the components of the vector field Bx, By, Bz at vecR.\n",
    "def BiotSavart(vecL, vecR):\n",
    "    # Integrate the three components kernelx, kernely, kernelz\n",
    "    # for instance:\n",
    "    #  Bx = Integrate kernelx\n",
    "    #   etc.\n",
    "    pass\n",
    "    "
   ]
  },
  {
   "cell_type": "markdown",
   "metadata": {},
   "source": [
    "### Exercise 1\n",
    "\n",
    "In this exercise, the magnetic field at the center of the square loop will be calculated with the Biot-Savart law.  \n",
    "\n",
    "**To the Instructor**: The working class definition provided below describes the geometry of a square loop of wire.  You are free to provide this as is to the student, or you may delete it from the template so that they produce their own code. "
   ]
  },
  {
   "cell_type": "code",
   "execution_count": 9,
   "metadata": {
    "collapsed": false
   },
   "outputs": [],
   "source": [
    "# a square loop\n",
    "# These classes define a square loop by linear interpolation.\n",
    "# As a design choice, the classes are patterned after the Scipy \n",
    "#      interpolation spline class.  \n",
    "# For each vector component of $\\vec{\\ell}(t)$, define the functions:\n",
    "#   - __init__: The class constructor sets the basic parameters.\n",
    "#   - derivatives: returns both the value and the first derivative.\n",
    "#   - __call__: convenience function to return just the value. \n",
    "class Square_x:\n",
    "    def __init__(self):\n",
    "        self.length = 1.0\n",
    "        self.vertices = self.length*numpy.array([0.5, -0.5, -0.5, 0.5])\n",
    "    def derivatives(self, t):\n",
    "        if (t < 0.25):\n",
    "            tp = (t) / 0.25\n",
    "            vstart = 0\n",
    "            vend = 1\n",
    "        elif (t < 0.5):\n",
    "            tp = (t-0.25) / 0.25\n",
    "            vstart = 1\n",
    "            vend = 2\n",
    "        elif (t < 0.75):\n",
    "            tp = (t-0.5) / 0.25\n",
    "            vstart = 2\n",
    "            vend = 3\n",
    "        else:\n",
    "            tp = (t-0.75) / 0.25\n",
    "            vstart = 3\n",
    "            vend = 0\n",
    "        value = self.vertices[vstart] + tp*(self.vertices[vend] - self.vertices[vstart])\n",
    "        der = 4.0 * (self.vertices[vend] - self.vertices[vstart])\n",
    "        return [value, der]\n",
    "    def __call__(self,t):\n",
    "        value, der = self.derivatives(t)\n",
    "        return value\n",
    "\n",
    "class Square_y:\n",
    "    def __init__(self):\n",
    "        self.length = 1.0\n",
    "        self.vertices = self.length*numpy.array([0.5, 0.5, -0.5, -0.5])\n",
    "    def derivatives(self,t):\n",
    "        if (t < 0.25):\n",
    "            tp = (t) / 0.25\n",
    "            vstart = 0\n",
    "            vend = 1\n",
    "        elif (t < 0.5):\n",
    "            tp = (t-0.25) / 0.25\n",
    "            vstart = 1\n",
    "            vend = 2\n",
    "        elif (t < 0.75):\n",
    "            tp = (t-0.5) / 0.25\n",
    "            vstart = 2\n",
    "            vend = 3\n",
    "        else:\n",
    "            tp = (t-0.75) / 0.25\n",
    "            vstart = 3\n",
    "            vend = 0\n",
    "        value = self.vertices[vstart] + tp*(self.vertices[vend] - self.vertices[vstart])\n",
    "        der = 4.0 * (self.vertices[vend] - self.vertices[vstart])\n",
    "        return [value, der]\n",
    "    def __call__(self, t):\n",
    "        value, der = self.derivatives(t)\n",
    "        return value\n",
    "    \n",
    "class Square_z:\n",
    "    def __init__(self):\n",
    "        self.length = 1.0\n",
    "        self.vertices = self.length*numpy.array([0.0, 0.0, 0.0, 0.0])\n",
    "    def derivatives(self,t):\n",
    "        #theta = 8.0 * numpy.pi * t\n",
    "        value = 0.0\n",
    "        der = 0.0\n",
    "        return [value, der]\n",
    "    def __call__(self, t):\n",
    "        value, der = self.derivatives(t)\n",
    "        return value\n",
    "    \n",
    "def SquareBAtOrigin():\n",
    "    # in this function, encode the analytically calculated value of B_z at the origin\n",
    "    pass"
   ]
  },
  {
   "cell_type": "markdown",
   "metadata": {},
   "source": [
    "Now, calculate the $\\vec{B}$ field at the origin.  Each calculation will involve an integral, which integrates the \"kernel\" functions defined above.  For the integration, you may write your own integration function, or you may consider using a library function, such as the ``scipy.integrate.quad`` function. "
   ]
  },
  {
   "cell_type": "markdown",
   "metadata": {},
   "source": [
    "### Exercise 2."
   ]
  },
  {
   "cell_type": "markdown",
   "metadata": {},
   "source": [
    "The ingredients are now ready to calculate $\\vec{B}$ at every point $\\vec{r}$ on the defined spatial mesh.  \n",
    "\n",
    "Once the magnetic field is calculated, it can be plotted.  The ``matplotlib.pyplot.streamplot`` function is a good function to consider. "
   ]
  },
  {
   "cell_type": "markdown",
   "metadata": {
    "collapsed": true
   },
   "source": [
    "### Extension\n",
    "\n",
    "At this point, the student is free to invent a wire geometry of his or her own choosing, adapting the methods developed in Exercises 1 and 2.\n",
    "\n",
    "As an example of another wire geometry, a helical wire of radius $R$, height $L$, and $N$ turns is parameterized by \n",
    "$$ x(t) = R \\cos\\left( 2\\pi N\\,t \\right), $$\n",
    "$$ y(t) = R \\sin\\left( 2\\pi N\\,t \\right), $$\n",
    "$$ z(t) = Lt - \\frac{1}{2}L. $$\n",
    "\n",
    "For example, let $R=1$, $N=80$, and $L=2.0$. "
   ]
  },
  {
   "cell_type": "code",
   "execution_count": null,
   "metadata": {
    "collapsed": true
   },
   "outputs": [],
   "source": []
  }
 ],
 "metadata": {
  "kernelspec": {
   "display_name": "Python 3",
   "language": "python",
   "name": "python3"
  },
  "language_info": {
   "codemirror_mode": {
    "name": "ipython",
    "version": 3
   },
   "file_extension": ".py",
   "mimetype": "text/x-python",
   "name": "python",
   "nbconvert_exporter": "python",
   "pygments_lexer": "ipython3",
   "version": "3.4.4"
  }
 },
 "nbformat": 4,
 "nbformat_minor": 0
}
