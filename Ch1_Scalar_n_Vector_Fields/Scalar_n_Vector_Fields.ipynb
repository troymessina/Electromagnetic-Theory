{
 "cells": [
  {
   "cell_type": "markdown",
   "metadata": {},
   "source": [
    "# Scalar and Vector Fields\n",
    "This tutorial will introduce you to the Five Minute Physics interactive simulations. Open the webpage \n",
    "https://teaching.smp.uq.edu.au/fiveminutephysics/index.html#course=phys2055&lecture=Fields\n",
    "It will take a moment to load, so make sure you have a pen or pencil handy, fill your water bottle, get comfortable. … Once the page loads read the sections on Field Concepts and Representing Fields. \n",
    "\n",
    "<strong>Learning Outcome:</strong> Identify scalar and vector fields and be able to draw simple field diagrams.\n"
   ]
  },
  {
   "cell_type": "code",
   "execution_count": 1,
   "metadata": {},
   "outputs": [],
   "source": [
    "import numpy as np\n",
    "from mpl_toolkits.mplot3d import Axes3D     # For surface plot\n",
    "import matplotlib.pyplot as plt\n",
    "import matplotlib\n",
    "plt.rcParams[\"figure.figsize\"] = (10,8) #Make the plot bigger\n",
    "plt.rcParams.update({'font.size': 16})#Make plot fong bigger"
   ]
  },
  {
   "cell_type": "markdown",
   "metadata": {},
   "source": [
    "## Example 1. A Scalar Field\n",
    "The code in the next cell is pre-programmed to plot a bowl.\n",
    "$$f(x,y) = x^2 + y^2$$\n",
    "1. Use the code below to investigate how a scalar field can be pictorially represented. For each representation in the simulation, give a brief explanation of how it works. How does the simulation represent the properties of the field?   What are the advantages and disadvantages of each method? Try different shapes such as a saddle $f(x,y)=x^2-y^2$, a plane $f(x,y)=x$, and a function of your own creation.\n",
    "    * Color map\n",
    "    * Contours\n",
    "    * Surface\n",
    "2. Which representation do you think is the best at helping you understand the geometry of the given field. Input your own “User Field” and show your instructor. What are the main advantages of the representation you have chosen?\n",
    "\n",
    "### Color Map\n",
    "You only need to add the scalar field function for this code to run. You may want to copy and paste code into new cells to plot the different scalar fields. Be sure to name the different scalar fields differently. Then, when you plot them, change the plotting to include the appropriately named scalar field."
   ]
  },
  {
   "cell_type": "code",
   "execution_count": null,
   "metadata": {},
   "outputs": [],
   "source": [
    "# Calculate a grid of points from -2-2 with 100 points in each direction\n",
    "x,y = np.meshgrid(np.linspace(-2,2,100),np.linspace(-2,2,100));\n",
    "\n",
    "# Calculate the scalar field\n",
    "f = \n",
    "\n",
    "# False colour plot\n",
    "#cmap options are 'magma', 'plasma', 'flag', 'Spectral', 'autumn', 'winter'\n",
    "plt.figure()\n",
    "plt.pcolor(x,y,f, shading='auto', cmap='magma')#default cmap is viridis\n",
    "plt.colorbar()"
   ]
  },
  {
   "cell_type": "markdown",
   "metadata": {},
   "source": [
    "### Contour Map\n",
    "You can run this without modification. You may want to copy and paste code to plot the different scalar fields."
   ]
  },
  {
   "cell_type": "code",
   "execution_count": null,
   "metadata": {},
   "outputs": [],
   "source": [
    "# Contour plot\n",
    "limits = np.linspace(0, np.amax(f), 10)#create contour values\n",
    "plt.contour(x,y,f,limits)\n",
    "plt.show()"
   ]
  },
  {
   "cell_type": "markdown",
   "metadata": {},
   "source": [
    "### Surface Plot\n",
    "You can run this without modification. You may want to copy and paste code to plot the different scalar fields."
   ]
  },
  {
   "cell_type": "code",
   "execution_count": null,
   "metadata": {},
   "outputs": [],
   "source": [
    "# Surface plot\n",
    "ax = plt.figure().add_subplot(projection='3d')\n",
    "ax.plot_surface(x,y,f)\n",
    "ax.set_xlabel('x')\n",
    "ax.set_ylabel('y')\n",
    "ax.set_zlabel('z')\n",
    "plt.show()"
   ]
  },
  {
   "cell_type": "markdown",
   "metadata": {},
   "source": [
    "## Vector Fields\n",
    "1. Use the second simulation to explore the properties of a vector field. How does a vector field differ from a scalar field? \n",
    "2. Compare and contrast the different representations of the vector field. \n",
    "    * Field Arrows 1\n",
    "    * Field Arrows 2\n",
    "    * Color: Some options shown. More found at https://matplotlib.org/stable/gallery/color/colormap_reference.html\n",
    "3. Try creating your own vector field in the simulation using the representation that you think is most useful. Show your instructor. \n",
    "4. Why must the representation of a vector field be different than that of a scalar field? \n",
    "\n",
    "Below you can create vector fields and plot them on your own. No need for that slow website! The vector field shown below is a radial vector field. How would you write this vector field mathematically?"
   ]
  },
  {
   "cell_type": "code",
   "execution_count": null,
   "metadata": {},
   "outputs": [],
   "source": [
    "# Calculate a grid of points from -2-2 with 11 points in each direction\n",
    "x,y = np.meshgrid(np.linspace(-2,2,11),np.linspace(-2,2,11))\n",
    "\n",
    "# Calculate the vector field (source field)\n",
    "fx = x\n",
    "fy = y\n",
    "\n",
    "colors = np.abs(np.sqrt(fx**2+fy**2))#create colors based on magnitude of vectors\n",
    "\n",
    "# Plot arrows\n",
    "plt.quiver(x, y, fx, fy, colors, cmap='Spectral') #cmap options are 'magma', 'plasma', 'flag', 'Spectral', 'autumn', 'winter'\n",
    "plt.colorbar()\n",
    "plt.show()"
   ]
  },
  {
   "cell_type": "markdown",
   "metadata": {},
   "source": [
    "## Try for yourself\n",
    "Plot in the $xy$-plane of the following vector fields. Plot enough different vectors to get a feel for what the field looks like.\n",
    "\n",
    "$$\\vec{f}(x, y) = y\\hat{i}$$\n",
    "\n",
    "$$\\vec{g}(x, y) = x\\hat{i} - y\\hat{j}$$\n",
    "\n",
    "$$\\vec{h}(x, y) = \\frac{x}{\\sqrt{x^2+y^2}}\\hat{i}\\frac{y}{\\sqrt{x^2+y^2}}\\hat{j}$$\n",
    "\n",
    "Interpret the physical meaning of the last field.\n",
    "\n",
    "\n",
    "### 3D Vector Fields\n",
    "Suppose we wanted to look at a three-dimensional vector field. Here is an example. Try for yourself by plotting a 3D vector field for a point charge of 1 nC. Copy the code below and make edits to it in a new cell.\n"
   ]
  },
  {
   "cell_type": "code",
   "execution_count": null,
   "metadata": {},
   "outputs": [],
   "source": [
    "# Calculate a grid of points from -2-2 with 11 points in each direction\n",
    "[x,y,z] = np.meshgrid(np.linspace(-2,2,5),np.linspace(-2,2,5),np.linspace(-2,2,5))\n",
    "\n",
    "# Calculate the vector field (source field)\n",
    "fx = x\n",
    "fy = y\n",
    "fz = z\n",
    "\n",
    "# Plot arrows\n",
    "plt.rcParams[\"figure.figsize\"] = (15,15) #Make the plot bigger\n",
    "ax = plt.figure().add_subplot(projection='3d')\n",
    "ax.quiver(x, y, z, fx, fy, fz, length=0.1, arrow_length_ratio=0.5) \n",
    "ax.set_xlabel('x')\n",
    "ax.set_ylabel('y')\n",
    "ax.set_zlabel('z')\n",
    "plt.show()"
   ]
  },
  {
   "cell_type": "code",
   "execution_count": null,
   "metadata": {},
   "outputs": [],
   "source": []
  }
 ],
 "metadata": {
  "kernelspec": {
   "display_name": "Python 3 (ipykernel)",
   "language": "python",
   "name": "python3"
  },
  "language_info": {
   "codemirror_mode": {
    "name": "ipython",
    "version": 3
   },
   "file_extension": ".py",
   "mimetype": "text/x-python",
   "name": "python",
   "nbconvert_exporter": "python",
   "pygments_lexer": "ipython3",
   "version": "3.9.12"
  }
 },
 "nbformat": 4,
 "nbformat_minor": 4
}
