{
 "cells": [
  {
   "cell_type": "code",
   "execution_count": 13,
   "metadata": {},
   "outputs": [],
   "source": [
    "import numpy as np\n",
    "import matplotlib.pyplot as plt\n",
    "from scipy.integrate import quad\n",
    "plt.rcParams[\"figure.figsize\"] = (8,8)\n",
    "plt.rcParams.update({'font.size': 14})"
   ]
  },
  {
   "cell_type": "markdown",
   "metadata": {},
   "source": [
    "# Numerical Integration\n",
    "Some functions cannot be integrated analytically. Instead we can ask a computer to numerically integrate them. If you take the Numerical Methods mathematics course, you will learn more of the nitty-gritty behind this method. Here, we will simply put the method to use. To begin, let's integrate a function that IS integrable analytically so that we know the method works. We will start with a quadratic equation.\n",
    "\n",
    "$$y = ax^2 + b$$"
   ]
  },
  {
   "cell_type": "code",
   "execution_count": 2,
   "metadata": {},
   "outputs": [],
   "source": [
    "def quadraticf(x, a, b):\n",
    "    return a*x**2 + b\n",
    "\n",
    "a = 2\n",
    "b = 1"
   ]
  },
  {
   "cell_type": "markdown",
   "metadata": {},
   "source": [
    "With our function defined along with constants, we can use `scipy.integrate.quad` to numerically integrate the function over a given range. We imported `quad` above. So, we can call it directly, for example\n",
    "\n",
    "```python\n",
    "quad(function, start, end, args=(a,b))\n",
    "```\n",
    "\n",
    "where `start` is the lower limit of integration and `end` is the upper limit. `a` and `b` are constants in the function. Notice, we could change these to get a differently scaled function and thus a different value of integration.\n",
    "\n",
    "$$\\int_{start}^{end} \\left(ax^2+b\\right) dx$$"
   ]
  },
  {
   "cell_type": "code",
   "execution_count": 3,
   "metadata": {},
   "outputs": [
    {
     "name": "stdout",
     "output_type": "stream",
     "text": [
      "(1.6666666666666667, 1.8503717077085944e-14)\n"
     ]
    }
   ],
   "source": [
    "I = quad(quadraticf, 0, 1, args=(a,b))\n",
    "print(I)"
   ]
  },
  {
   "cell_type": "markdown",
   "metadata": {},
   "source": [
    "The result of `quad` is a \"tuple\" of the integrated value and the estimated error of that value. If we integrated analytically, we get\n",
    "\n",
    "$$\\int_0^1 ax^2+b = \\left(\\frac{ax^3}{3} + bx\\right)\\Biggr|_{0}^{1}$$\n",
    "\n",
    "and this evaluated over the range of integration is\n",
    "\n",
    "$$\\frac{a}{3}+b - \\frac{0}{3}-0 = \\frac{a}{3}+b$$\n",
    "\n",
    "Is this what the numerical integration gave us?\n",
    "\n",
    "## Back to our current carrying loop\n",
    "Okay, let's apply it to our problem of the magentic field of a loop in the plane of the loop. In this case, we are trying to integrate over the loop and calculate the magnetic field at some position away from the loop and in the plane of the loop. We worked through the mathematics to obtain\n",
    "\n",
    "$$\\left|\\vec{B}\\left(\\vec{r}\\right)\\right|=\\frac{\\mu_o IR^2}{4\\pi}\\int_0^{2\\pi} \\frac{\\frac{x}{R}\\cos\\theta-1}{\\left(x^2+R^2-2Rx\\cos\\theta\\right)^{3/2}}d\\theta$$\n",
    "\n",
    "We will parametrize the problem by defining $d=x/R$ such that $d<1$ is inside the loop and $d>1$ is outside the loop. At $d=1$ we expect the field to diverge (<strong>why?</strong>). This parameterization gives\n",
    "\n",
    "$$\\left|\\vec{B}\\left(\\vec{r}\\right)\\right|=\\frac{\\mu_o IR^2}{4\\pi x^3}\\int_0^{2\\pi} \\left(d\\cos\\theta-1\\right)\\left(1+\\frac{1}{d^2}-\\frac{2}{d}\\cos\\theta\\right)^{-3/2}d\\theta$$\n",
    "\n",
    "You should verify this if you haven't already. We will parametrize the constant outside of the integral by saying there is a maximum field that is at the center of the loop.\n",
    "\n",
    "$$B_{\\circ} = \\frac{\\mu_o I}{2R}$$\n",
    "\n",
    "The magnetic field can be normalized such that we have a function of $d$ and $\\theta$\n",
    "\n",
    "$$f(d) = \\frac{B}{B_{\\circ}} = \\frac{1}{2\\pi d^3}\\int_0^{2\\pi} \\left(d\\cos\\theta-1\\right)\\left(1+\\frac{1}{d^2}-\\frac{2}{d}\\cos\\theta\\right)^{-3/2}d\\theta$$\n",
    "\n",
    "This is something we can easily enter as a computable function like the quadratic above. As we did with `a` and `b`, we enter a value of `d` for computing the integral at a particular location relative to the loop. To deal with the direction, we can either enter a minus sign out front. We'll verify that is the right thing to do later.\n",
    "\n",
    "$$f(d) = \\frac{B}{B_{\\circ}} = -\\frac{1}{2\\pi d^3}\\int_0^{2\\pi} \\left(d\\cos\\theta-1\\right)\\left(1+\\frac{1}{d^2}-\\frac{2}{d}\\cos\\theta\\right)^{-3/2}d\\theta$$"
   ]
  },
  {
   "cell_type": "code",
   "execution_count": 4,
   "metadata": {},
   "outputs": [],
   "source": [
    "#define the function to integrate\n",
    "def BField(x, d):\n",
    "    return (-(d*np.cos(x)-1)*(1+1/d**2-2/d*np.cos(x))**(-1.5))/(2*np.pi*d**3)"
   ]
  },
  {
   "cell_type": "code",
   "execution_count": 5,
   "metadata": {},
   "outputs": [
    {
     "name": "stdout",
     "output_type": "stream",
     "text": [
      "(-0.28474711893524945, 1.2977604379078105e-11)\n"
     ]
    }
   ],
   "source": [
    "d = 1.5 #set the position x/R\n",
    "\n",
    "#integrate over 0 to 2 pi\n",
    "I = quad(BField, 0, 2*np.pi, args=(d))\n",
    "print(I)"
   ]
  },
  {
   "cell_type": "markdown",
   "metadata": {},
   "source": [
    "We see that we get an integration value. Now, let's extend it over a range of $d=x/R$ to see if the result makes sense."
   ]
  },
  {
   "cell_type": "code",
   "execution_count": 17,
   "metadata": {},
   "outputs": [
    {
     "name": "stderr",
     "output_type": "stream",
     "text": [
      "<ipython-input-4-b99af9895156>:3: RuntimeWarning: divide by zero encountered in double_scalars\n",
      "  return (-(d*np.cos(x)-1)*(1+1/d**2-2/d*np.cos(x))**(-1.5))/(2*np.pi*d**3)\n",
      "<ipython-input-4-b99af9895156>:3: RuntimeWarning: invalid value encountered in double_scalars\n",
      "  return (-(d*np.cos(x)-1)*(1+1/d**2-2/d*np.cos(x))**(-1.5))/(2*np.pi*d**3)\n",
      "<ipython-input-17-89ea2a6560fa>:8: IntegrationWarning: The occurrence of roundoff error is detected, which prevents \n",
      "  the requested tolerance from being achieved.  The error may be \n",
      "  underestimated.\n",
      "  temp = quad(BField, 0, 2*np.pi, args=(i))\n"
     ]
    }
   ],
   "source": [
    "d = np.linspace(0, 2, 201)#Make a list of d values\n",
    "d[np.abs(d)==1] = np.inf #if d=1, set d to infinity. We want to avoid the diverging values at the ring\n",
    "result = np.zeros(len(d)) #create an array to store the B-field\n",
    "uncert = np.zeros(len(d))\n",
    "index = 0\n",
    "#loop through the d values and get the integration (B-field) value for each d\n",
    "for i in d:\n",
    "    temp = quad(BField, 0, 2*np.pi, args=(i))\n",
    "    result[index] = temp[0]#We only want the value, not the error\n",
    "    uncert[index] = temp[1]#We can store the errors if we want to plot error bars later\n",
    "    index += 1\n",
    "#print(result, uncert)"
   ]
  },
  {
   "cell_type": "code",
   "execution_count": 18,
   "metadata": {},
   "outputs": [
    {
     "data": {
      "image/png": "[encoded data removed]",
      "text/plain": [
       "<Figure size 576x576 with 1 Axes>"
      ]
     },
     "metadata": {
      "needs_background": "light"
     },
     "output_type": "display_data"
    }
   ],
   "source": [
    "#plt.plot(d, result, '-ok')\n",
    "plt.errorbar(d, result, yerr=uncert, fmt='-ok')\n",
    "plt.grid(True)\n",
    "plt.xlabel('x/R')\n",
    "plt.ylabel('B/Bo')\n",
    "plt.ylim(-5,5)\n",
    "plt.show()"
   ]
  },
  {
   "cell_type": "markdown",
   "metadata": {},
   "source": [
    "We can compare the approximation at large distances ($x\\gg R$). Recall this was integrable and gave us\n",
    "\n",
    "$$ \\left|\\vec{B}\\left(\\vec{r}\\right)\\right|\\approx\\frac{\\mu_o IR^2}{4\\pi x^3} \\left(\\pi\\right)$$\n",
    "\n",
    "Normalizing and substituting $d=\\frac{x}{R}$\n",
    "\n",
    "$$f_{far}(d)=\\frac{B}{B_\\circ} \\approx \\frac{1}{2d^3}$$\n",
    "\n",
    "<strong>You should verify this equation by filling in the algebra.</strong> Keep in mind this is only valid outside the ring and in the plane of the ring. Below, create an appropriate range of $d$ values (positive only is fine). Use those values to compute the large distance approximation of $B$, i.e., $f_{far}(d)$. Then plot both the numerically integrated and the approximated magnetic fields."
   ]
  },
  {
   "cell_type": "code",
   "execution_count": 19,
   "metadata": {},
   "outputs": [
    {
     "data": {
      "image/png": "[encoded data removed]",
      "text/plain": [
       "<Figure size 576x576 with 1 Axes>"
      ]
     },
     "metadata": {
      "needs_background": "light"
     },
     "output_type": "display_data"
    }
   ],
   "source": [
    "dfar = np.linspace(1.1, 2, 10)#Make a list of d values\n",
    "ffar = -1/(2*dfar**3)#compute the approximate B field\n",
    "\n",
    "#Create a plot\n",
    "plt.plot(d, result, '-k', label='Numerical Integration') #plot f(d)\n",
    "plt.plot(dfar, ffar, '--b', label='Dipole Approximation') #plot ffar(d)\n",
    "plt.grid(True)\n",
    "plt.xlabel('x/R')\n",
    "plt.ylabel('B/Bo')\n",
    "plt.legend(loc=0)\n",
    "plt.ylim(-5,5)#you may need to adjust this\n",
    "plt.show()"
   ]
  },
  {
   "cell_type": "code",
   "execution_count": null,
   "metadata": {},
   "outputs": [],
   "source": []
  }
 ],
 "metadata": {
  "kernelspec": {
   "display_name": "Python 3 (ipykernel)",
   "language": "python",
   "name": "python3"
  },
  "language_info": {
   "codemirror_mode": {
    "name": "ipython",
    "version": 3
   },
   "file_extension": ".py",
   "mimetype": "text/x-python",
   "name": "python",
   "nbconvert_exporter": "python",
   "pygments_lexer": "ipython3",
   "version": "3.9.13"
  }
 },
 "nbformat": 4,
 "nbformat_minor": 4
}
