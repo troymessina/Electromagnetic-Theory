{
 "cells": [
  {
   "cell_type": "code",
   "execution_count": null,
   "metadata": {},
   "outputs": [
    {
     "data": {
      "application/javascript": [
       "if (typeof Jupyter !== \"undefined\") {require.undef(\"nbextensions/vpython_libraries/glow.min\");}else{element.textContent = ' ';}"
      ],
      "text/plain": [
       "<IPython.core.display.Javascript object>"
      ]
     },
     "metadata": {},
     "output_type": "display_data"
    },
    {
     "data": {
      "application/javascript": [
       "if (typeof Jupyter !== \"undefined\") {require.undef(\"nbextensions/vpython_libraries/glowcomm\");}else{element.textContent = ' ';}"
      ],
      "text/plain": [
       "<IPython.core.display.Javascript object>"
      ]
     },
     "metadata": {},
     "output_type": "display_data"
    },
    {
     "data": {
      "application/javascript": [
       "if (typeof Jupyter !== \"undefined\") {require.undef(\"nbextensions/vpython_libraries/jquery-ui.custom.min\");}else{element.textContent = ' ';}"
      ],
      "text/plain": [
       "<IPython.core.display.Javascript object>"
      ]
     },
     "metadata": {},
     "output_type": "display_data"
    },
    {
     "data": {
      "application/javascript": [
       "if (typeof Jupyter !== \"undefined\") {require([\"nbextensions/vpython_libraries/glow.min\"], function(){console.log(\"GLOW LOADED\");});}else{element.textContent = ' ';}"
      ],
      "text/plain": [
       "<IPython.core.display.Javascript object>"
      ]
     },
     "metadata": {},
     "output_type": "display_data"
    },
    {
     "data": {
      "application/javascript": [
       "if (typeof Jupyter !== \"undefined\") {require([\"nbextensions/vpython_libraries/glowcomm\"], function(){console.log(\"GLOWCOMM LOADED\");});}else{element.textContent = ' ';}"
      ],
      "text/plain": [
       "<IPython.core.display.Javascript object>"
      ]
     },
     "metadata": {},
     "output_type": "display_data"
    },
    {
     "data": {
      "application/javascript": [
       "if (typeof Jupyter !== \"undefined\") {require([\"nbextensions/vpython_libraries/jquery-ui.custom.min\"], function(){console.log(\"JQUERY LOADED\");});}else{element.textContent = ' ';}"
      ],
      "text/plain": [
       "<IPython.core.display.Javascript object>"
      ]
     },
     "metadata": {},
     "output_type": "display_data"
    },
    {
     "data": {
      "text/html": [
       "<div id=\"glowscript\" class=\"glowscript\"></div>"
      ],
      "text/plain": [
       "<IPython.core.display.HTML object>"
      ]
     },
     "metadata": {},
     "output_type": "display_data"
    },
    {
     "data": {
      "application/javascript": [
       "if (typeof Jupyter !== \"undefined\") { window.__context = { glowscript_container: $(\"#glowscript\").removeAttr(\"id\")};}else{ element.textContent = ' ';}"
      ],
      "text/plain": [
       "<IPython.core.display.Javascript object>"
      ]
     },
     "metadata": {},
     "output_type": "display_data"
    },
    {
     "data": {
      "text/html": [
       "<div id=\"glowscript\" class=\"glowscript\"></div>"
      ],
      "text/plain": [
       "<IPython.core.display.HTML object>"
      ]
     },
     "metadata": {},
     "output_type": "display_data"
    },
    {
     "data": {
      "application/javascript": [
       "if (typeof Jupyter !== \"undefined\") { window.__context = { glowscript_container: $(\"#glowscript\").removeAttr(\"id\")};}else{ element.textContent = ' ';}"
      ],
      "text/plain": [
       "<IPython.core.display.Javascript object>"
      ]
     },
     "metadata": {},
     "output_type": "display_data"
    }
   ],
   "source": [
    "from vpython import *\n",
    "# Charges in a conductor reaching equilibrium\n",
    "# Adapted from \"Stars Interacting Gravitationally\" by Bruce Sherwood\n",
    "\n",
    "scene = canvas()\n",
    "scene.width = scene.height = 600\n",
    "scene.background = color.black\n",
    "\n",
    "# Display text below the 3D graphics:\n",
    "scene.title = \"Charges in a Conductor\"\n",
    "\n",
    "scene.caption = \"\"\"Ctrl-drag to rotate \"camera\" to view scene. Alt-drag to zoom.\n",
    "Refresh the web page to re-execute with different (random) initial conditions.\"\"\"\n",
    "\n",
    "# Parameter values\n",
    "N = 200    # Number of individual charges\n",
    "Q = 5e-6   # Net charge, in Coulombs\n",
    "m = 1e-3   # Mass of each charge, in kg\n",
    "R = 0.10   # Radius of conducting sphere, in meters\n",
    "dt = 0.001 # Time step, in seconds\n",
    "K = 8.99e9 # Coulomb constant\n",
    "\n",
    "q = Q/N    # Charge for each individual charge\n",
    "\n",
    "scene.range = 1.5*R\n",
    "scene.forward = vec(-1,-1,-1)\n",
    "\n",
    "sphere(radius = R, color=color.white, opacity = 0.5)\n",
    "\n",
    "charges = [] # Empty array of charges, to be filled below\n",
    "\n",
    "# Create charges with random initial positions, initially at rest:\n",
    "for i in range(N):\n",
    "    position = R/sqrt(3) * vec.random()\n",
    "    charge = sphere(pos=position, radius = 0.01*R, color=color.red) # Random position\n",
    "    charge.velocity = vec(0,0,0)   # Initially at rest\n",
    "    charges.append( charge )\n",
    "\n",
    "# Function to compute forces & update velocities\n",
    "def computeForces():\n",
    "    global charges\n",
    "    N = len(charges)\n",
    "    for i in range(N):\n",
    "        charge_i = charges[i]\n",
    "        F_net = vec(0,0,0)\n",
    "        r_i = charge_i.pos\n",
    "        for j in range(N):\n",
    "            if i == j: continue # A charge doesn't interact with itself\n",
    "            charge_j = charges[j]\n",
    "            r_j = charge_j.pos\n",
    "            r_vector = r_i - r_j\n",
    "            r = mag(r_vector)\n",
    "            F = K*q*q/r**2 * (r_vector/r)\n",
    "            F_net = F_net + F\n",
    "        a = F_net / m      # Acceleration of charge i\n",
    "        if mag(a) > 1000:  # In case of a huge acceleration... \n",
    "            a = 1000 * a / mag(a) # Rescale acceleration to smaller value\n",
    "        charge_i.velocity = charge_i.velocity + a*dt # Update velocity of charge i\n",
    "\n",
    "\n",
    "# (COMPLETED) FUNCTION THAT NEEDS TO BE FILLED IN BY THE STUDENTS:\n",
    "def computeEfield(P):\n",
    "    ''' Computes the total electric field at point P, which is a 3D vector.\n",
    "    YOU WILL NEED TO COMPLETE THIS FUNCTION!! '''\n",
    "    \n",
    "    global charges\n",
    "    N = len(charges)\n",
    "    \n",
    "    # E_net will be computed from a summation, so it is first set to zero\n",
    "    E_net = vec(0,0,0)\n",
    "    \n",
    "    # Loop through all charges in order to compute the net E field\n",
    "    for charge in charges:\n",
    "        r_vector = P - charge.pos # vector between charge & point P\n",
    "        r = mag(r_vector)         # \"r\" is the magnitude of the r vector\n",
    "        E = 1e-6 * K*q/r**2 * (r_vector/r) # The E field from this ONE charge\n",
    "        E_net = E_net + E         # Computes the running sum, E_net\n",
    "    return E_net # This sends the computed value back to the main loop\n",
    "    \n",
    "P = vec(0.5, 0, 0)\n",
    "\n",
    "t = 0 # Start the timer at t = 0\n",
    "\n",
    "while True:\n",
    "    rate(100) # Sets maximum frame rate to 100 frames per second\n",
    "    \n",
    "    # Compute all forces on all charges & update velocities\n",
    "    computeForces()\n",
    "\n",
    "    # Having updated all velocities, now update all positions\n",
    "    for charge in charges:\n",
    "        charge.pos = charge.pos + dt * charge.velocity\n",
    "        d = mag(charge.pos) # Distance from center of sphere to charge\n",
    "        if d > R: # If charge would have LEFT the conductor\n",
    "            charge.pos = charge.pos * R / d # Bring back to edge\n",
    "    \n",
    "    t = t + dt               # Update the value of time\n",
    "    E_net = computeEfield(P) # After updating positions, compute E using your function\n",
    "    \n",
    "    \n",
    "    # Print the numerical value of |E| in microCoulombs\n",
    "    print('At P =', P, 'meters,  |E| =', mag(E_net), 'N/uC')"
   ]
  },
  {
   "cell_type": "code",
   "execution_count": null,
   "metadata": {},
   "outputs": [],
   "source": []
  }
 ],
 "metadata": {
  "kernelspec": {
   "display_name": "Python 3",
   "language": "python",
   "name": "python3"
  },
  "language_info": {
   "codemirror_mode": {
    "name": "ipython",
    "version": 3
   },
   "file_extension": ".py",
   "mimetype": "text/x-python",
   "name": "python",
   "nbconvert_exporter": "python",
   "pygments_lexer": "ipython3",
   "version": "3.7.0"
  }
 },
 "nbformat": 4,
 "nbformat_minor": 2
}
