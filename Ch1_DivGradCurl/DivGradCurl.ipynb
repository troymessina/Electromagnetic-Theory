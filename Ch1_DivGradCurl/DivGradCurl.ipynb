{
 "cells": [
  {
   "cell_type": "markdown",
   "metadata": {
    "id": "M70eIS-rjoLs"
   },
   "source": [
    "# SymPy Introduction\n",
    "Python has a library called `sympy`, short for symbolic python. See https://docs.sympy.org/latest/modules/vector/fields.html. SymPy is able to do mathemical operations in a symbolic way. This is very much like Mathematica or Maple if you have used those applications. In this exercise, we will look at the gradient, the divergence, and the curl of vector fields. First, let's import some libraries."
   ]
  },
  {
   "cell_type": "code",
   "execution_count": 24,
   "metadata": {
    "executionInfo": {
     "elapsed": 19,
     "status": "ok",
     "timestamp": 1657723693888,
     "user": {
      "displayName": "Troy Messina",
      "userId": "08834187408513888437"
     },
     "user_tz": 240
    },
    "id": "_ARwraGSjgvU"
   },
   "outputs": [],
   "source": [
    "import numpy as np\n",
    "import matplotlib.pyplot as plt\n",
    "from matplotlib.pyplot import quiver\n",
    "plt.rcParams[\"figure.figsize\"] = (10,10)#Make big graphs\n",
    "plt.rcParams.update({'font.size': 16})#Make big fonts on graphs\n",
    "from sympy.vector import *"
   ]
  },
  {
   "cell_type": "markdown",
   "metadata": {
    "id": "2ba3iAWhjogY"
   },
   "source": [
    "## Coordinate system\n",
    "We will create a coordinate system $R$. This is just a coordinate space, e.g., $x, y, z$. Then, we will define a simple vector.\n",
    "\n",
    "$$\\vec{u}=-3\\hat{x}+\\hat{y}+\\hat{z}\\\\\n",
    "\\vec{v}=3\\hat{x}+4\\hat{y}+5\\hat{z}\\\\\n",
    "\\vec{w}=-6\\hat{x}-8\\hat{y}-10\\hat{z}$$\n",
    "\n",
    "You will notice here we use $\\hat{i}, \\hat{j}, \\hat{k}$ as `.i, .j, .k`. $\\hat{x}, \\hat{y}, \\hat{z}$ is `.x, .y, .z` notation does <strong>not</strong> work in the `sympy.vector` package. It does work in the `sympy.physics.vector` package, but this later package lacks simple div, grad, curl features that do exist in the former package.\n",
    "\n",
    "The first vector is done for you."
   ]
  },
  {
   "cell_type": "code",
   "execution_count": null,
   "metadata": {
    "colab": {
     "base_uri": "https://localhost:8080/"
    },
    "executionInfo": {
     "elapsed": 343,
     "status": "ok",
     "timestamp": 1657723697634,
     "user": {
      "displayName": "Troy Messina",
      "userId": "08834187408513888437"
     },
     "user_tz": 240
    },
    "id": "v1Zu7F2TkPAm",
    "outputId": "6665e4a5-bbee-4ded-eb3d-8a0c7c0bb520"
   },
   "outputs": [],
   "source": [
    "R = CoordSys3D('R')\n",
    "u = -3*R.i + 1*R.j + 1*R.k\n",
    "v = \n",
    "w = \n",
    "print(u)\n",
    "print(v)\n",
    "print(w)"
   ]
  },
  {
   "cell_type": "markdown",
   "metadata": {
    "id": "J9bBwHBYkYGg"
   },
   "source": [
    "### The Dot Product\n",
    "Let's take the dot products\n",
    "\n",
    "$$ \\vec{u}\\cdot\\vec{v}\\\\\n",
    "\\vec{v}\\cdot\\vec{w}$$\n",
    "\n",
    "<font color=red>Before doing this computationally, you should do them by hand so you know the results.</font> The dot product in this physics vector package is\n",
    "\n",
    "```python\n",
    "vec1.dot(vec2)\n",
    "```\n",
    "\n",
    "For example, I could dot the unit vectors $\\hat{x}$ and $\\hat{y}$\n",
    "\n",
    "```python\n",
    "R.i.dot(R.j)\n",
    "```\n",
    "\n",
    "I can dot vectors we create using the notation\n",
    "\n",
    "```python\n",
    "u.dot(w)\n",
    "```"
   ]
  },
  {
   "cell_type": "code",
   "execution_count": null,
   "metadata": {
    "colab": {
     "base_uri": "https://localhost:8080/"
    },
    "executionInfo": {
     "elapsed": 194,
     "status": "ok",
     "timestamp": 1657723700720,
     "user": {
      "displayName": "Troy Messina",
      "userId": "08834187408513888437"
     },
     "user_tz": 240
    },
    "id": "HoYWgfkYkT7K",
    "outputId": "f1dec72a-8ec5-41c4-f12a-11dabb7ac97b"
   },
   "outputs": [],
   "source": [
    "udotv = u.dot(v) #store the result of the dot product u dot v\n",
    "vdotw =  #store the result of the dot product v dot w\n",
    "print(udotv)\n",
    "print(vdotw)"
   ]
  },
  {
   "cell_type": "markdown",
   "metadata": {
    "id": "G2MU2B3_0uCp"
   },
   "source": [
    "## The Cross Product\n",
    "The vector cross product is very similar to the dot product in how is called. However, we know the result is a vector and not a scalar. Therefore, we expect a very different kind of output. To call the cross product, you may use one of the following methods.\n",
    "```python\n",
    "vec1.cross(vec2)\n",
    "```\n",
    "\n",
    "Here is an example of the cross products of $\\hat{x}\\times\\hat{x}$ and $\\hat{x}\\times\\hat{z}$. <font color=red>What do you expect the results to be?</font>"
   ]
  },
  {
   "cell_type": "code",
   "execution_count": null,
   "metadata": {
    "colab": {
     "base_uri": "https://localhost:8080/"
    },
    "executionInfo": {
     "elapsed": 152,
     "status": "ok",
     "timestamp": 1657723704570,
     "user": {
      "displayName": "Troy Messina",
      "userId": "08834187408513888437"
     },
     "user_tz": 240
    },
    "id": "ZZpRa6bnlm2P",
    "outputId": "b8537899-7dee-4c90-e24b-914d9797e4fa"
   },
   "outputs": [],
   "source": [
    "xcrossx = R.i.cross(R.i)\n",
    "xcrossz = R.i.cross(R.k)\n",
    "print(xcrossx)\n",
    "print(xcrossz)"
   ]
  },
  {
   "cell_type": "markdown",
   "metadata": {
    "id": "FWP9bInr3AL6"
   },
   "source": [
    "Now, you can calculate\n",
    "\n",
    "$$\\vec{u} \\times \\vec{v}\\\\\n",
    "\\vec{u} \\times \\vec{w}\\\\\n",
    "\\vec{v} \\times \\vec{w}$$\n",
    "\n",
    "<font color=red>Be sure to do these calculations by hand so you can verify the results.</font>"
   ]
  },
  {
   "cell_type": "code",
   "execution_count": null,
   "metadata": {
    "colab": {
     "base_uri": "https://localhost:8080/"
    },
    "executionInfo": {
     "elapsed": 152,
     "status": "ok",
     "timestamp": 1657723710614,
     "user": {
      "displayName": "Troy Messina",
      "userId": "08834187408513888437"
     },
     "user_tz": 240
    },
    "id": "Fg97iCYwloRF",
    "outputId": "eee2cc57-2f30-4bde-f62a-4808c8d6ca5f"
   },
   "outputs": [],
   "source": [
    "print('u x v = ', u.cross(v))\n",
    "print('u x w = ', )\n",
    "print('v x w = ', )"
   ]
  },
  {
   "cell_type": "markdown",
   "metadata": {
    "id": "ptk93SLO3ac1"
   },
   "source": [
    "Keep in mind that the $\\vec{v}\\times\\vec{w}$ result appears to be scalar, but it is still a vector.\n",
    "\n",
    "## The Gradient\n",
    "A mathematical operation we will use frequently is the gradient.\n",
    "\n",
    "$$\\vec{\\nabla f} = \\frac{\\partial f}{\\partial x}\\hat{x} + \\frac{\\partial f}{\\partial y}\\hat{y} + \\frac{\\partial f}{\\partial z}\\hat{z}$$\n",
    "This function returns a vector pointing in the direction of maximum slope. The magnitude of this vector is the magnitude of the slope.\n",
    "\n",
    "The gradient operation is on a scalar function. Therefore, we need to create a scalar function that depends on spatial coordinates. For example, we could define a function that describes the altitude of a hill ($z$) as a function of position ($x$ is eastward position and $y$ is northward position from an origin.). See Griffiths E&M textbook problem 1.12.\n",
    "\n",
    "<font color=red> In the code cell below, define the function.</font>\n",
    "\n",
    "$$z(x,y) = x^2 + 2xy -y^2$$\n",
    "\n",
    "<font color=red> Refer to the previous scalar and vector field plotting activity to plot this scalar field.</font>\n",
    "\n",
    "The function can live in our $R$ coordinate system. However, it is scalar. To create it symbolically, we use `R.x` and `R.y` to indicate variables $x$ and $y$. SymPy will interpret these as coordinate variables as in the gradient formula above.\n",
    "\n",
    "<font color=red>After defining the function, calculate the gradient using the notation\n",
    "\n",
    "```python\n",
    "gradient(z)\n",
    "```\n",
    "\n",
    "<font color=red>Be sure to assign the result to a variable, e.g., `gradz`. Refer to our previous scalar and vector field plotting to plot the resulting vector field.</font>"
   ]
  },
  {
   "cell_type": "code",
   "execution_count": null,
   "metadata": {
    "colab": {
     "base_uri": "https://localhost:8080/"
    },
    "executionInfo": {
     "elapsed": 123,
     "status": "ok",
     "timestamp": 1657727318040,
     "user": {
      "displayName": "Troy Messina",
      "userId": "08834187408513888437"
     },
     "user_tz": 240
    },
    "id": "rF-_lSZsBZY2",
    "outputId": "d407c09c-344b-4f84-f871-0baeb7068df0"
   },
   "outputs": [],
   "source": [
    "#\"R\" form for calculating gradient\n",
    "z = \n",
    "gradz = gradient(z)\n",
    "print(gradz)"
   ]
  },
  {
   "cell_type": "code",
   "execution_count": null,
   "metadata": {},
   "outputs": [],
   "source": [
    "#arrays for plotting\n",
    "x,y = np.meshgrid(np.linspace(-2, 2, 101,), np.linspace(-2,2,101))\n",
    "zxy = \n",
    "# Surface plot\n",
    "fig = plt.figure()\n",
    "ax = plt.figure().add_subplot(projection='3d')\n",
    "ax.plot_surface()\n",
    "plt.xlabel('x')\n",
    "plt.ylabel('y')\n",
    "plt.show()"
   ]
  },
  {
   "cell_type": "code",
   "execution_count": null,
   "metadata": {},
   "outputs": [],
   "source": [
    "#array form for plotting\n",
    "x,y = np.meshgrid(np.linspace(-2, 2, 11,), np.linspace(-2,2,11))\n",
    "gradx = \n",
    "grady = \n",
    "plt.quiver()\n",
    "plt.xlabel('x')\n",
    "plt.ylabel('y')\n",
    "plt.show()"
   ]
  },
  {
   "cell_type": "markdown",
   "metadata": {
    "id": "bxkmUU9d3aft"
   },
   "source": [
    "## The Divergence\n",
    "The divergence is a vector operation that calculates the dot product of the $\\nabla$ operator and a vector. \n",
    "\n",
    "$$\\vec{\\nabla}\\cdot \\vec{v} = \\left(\\frac{\\partial}{\\partial x}\\hat{x} + \\frac{\\partial}{\\partial y}\\hat{y}\\right) \\cdot \\left(v_x\\hat{x} +v_y\\hat{y}\\right)$$\n",
    "\n",
    "The divergence value is an indication of how rapidly a function diverges.\n",
    "\n",
    "Let's consider a vector field in 2 dimensions.\n",
    "\n",
    "$$\\vec{F} = x\\hat{x} + y\\hat{y}$$\n",
    "\n",
    "The values (magnitudes) of this vector field get larger as $x$ and $y$ increase. So, we expect it have a divergence. <font color=red>Create this vector field. Then, calculate its divergence using the notation below. As always, calculate by hand what you expect as a result. Plot the vector field and convince yourself that the divergence makes sense.</font>\n",
    "\n",
    "```python\n",
    "divF = divergence(F)\n",
    "```\n"
   ]
  },
  {
   "cell_type": "code",
   "execution_count": null,
   "metadata": {
    "colab": {
     "base_uri": "https://localhost:8080/"
    },
    "executionInfo": {
     "elapsed": 241,
     "status": "ok",
     "timestamp": 1657728044879,
     "user": {
      "displayName": "Troy Messina",
      "userId": "08834187408513888437"
     },
     "user_tz": 240
    },
    "id": "cru5q-1v3U-G",
    "outputId": "14a2ffae-29f7-4a57-a4f1-fa012603d75b"
   },
   "outputs": [],
   "source": [
    "F = #vector form for calculating divergence\n",
    "\n",
    "divF = \n",
    "print(divF)"
   ]
  },
  {
   "cell_type": "code",
   "execution_count": null,
   "metadata": {},
   "outputs": [],
   "source": [
    "#array form for plotting\n",
    "fx = \n",
    "fy = \n",
    "\n",
    "plt.quiver()\n",
    "plt.xlabel('x')\n",
    "plt.ylabel('y')\n",
    "plt.show()"
   ]
  },
  {
   "cell_type": "markdown",
   "metadata": {
    "id": "peMT8R5JUjH7"
   },
   "source": [
    "### A Challenge\n",
    "<font color=red>Can you think of a 2D vector field that would have zero divergence? Create the field and verify it has zero divergence.</font>\n",
    "\n",
    "## The Curl\n",
    "The curl of a vector field tells us about rotational changes within the field. The rotational part comes from the cross product, and the changing part comes from the \"Del\" ($\\vec{\\nabla}$). Mathematically, the curl of a vector is\n",
    "\n",
    "$$\\vec{\\nabla}\\times\\vec{v} = \\begin{vmatrix}\n",
    "\\hat{x} & \\hat{y} & \\hat{z}\\\\\n",
    "\\frac{\\partial}{\\partial x} & \\frac{\\partial}{\\partial y} & \\frac{\\partial}{\\partial z}\\\\\n",
    "v_x & v_y & v_z\n",
    "\\end{vmatrix}$$\n",
    "\n",
    "Examples of vector fields with a curl are given in Example 1.5 of Griffiths E&M textbook.\n",
    "\n",
    "$$\\vec{v_a} = -y\\hat{x} + x\\hat{y} +0\\hat{z}\\\\\n",
    "\\vec{v_b} = 0\\hat{x} + x\\hat{y} +0\\hat{z}$$\n",
    "\n",
    "<font color=red>Create these vector fields and compute their curls using the notation below.Plot the vector fields and their resulting curls (4 graphs)</font>\n",
    "\n",
    "```python\n",
    "curlF = curl(F)\n",
    "```\n"
   ]
  },
  {
   "cell_type": "code",
   "execution_count": null,
   "metadata": {},
   "outputs": [],
   "source": [
    "#This 2D vector field has zero divergence\n",
    "divfree = #vector form for calculating divergence\n",
    "divdivfree = \n",
    "print(divdivfree)\n",
    "\n",
    "#array form for plotting\n",
    "divfreex = \n",
    "divfreey = \n",
    "\n",
    "plt.quiver()\n",
    "plt.xlabel('x')\n",
    "plt.ylabel('y')\n",
    "plt.show()"
   ]
  },
  {
   "cell_type": "code",
   "execution_count": 67,
   "metadata": {
    "colab": {
     "base_uri": "https://localhost:8080/"
    },
    "executionInfo": {
     "elapsed": 157,
     "status": "ok",
     "timestamp": 1657729893812,
     "user": {
      "displayName": "Troy Messina",
      "userId": "08834187408513888437"
     },
     "user_tz": 240
    },
    "id": "2emhpbWCSm5G",
    "outputId": "6379ffbe-a9e4-423c-f008-2ac42281b205"
   },
   "outputs": [
    {
     "name": "stdout",
     "output_type": "stream",
     "text": [
      "2*R.k\n",
      "R.k\n"
     ]
    }
   ],
   "source": [
    "va = \n",
    "vb = \n",
    "\n",
    "curlva = \n",
    "curlvb = \n",
    "print(curlva)\n",
    "print(curlvb)"
   ]
  },
  {
   "cell_type": "code",
   "execution_count": null,
   "metadata": {
    "scrolled": false
   },
   "outputs": [],
   "source": [
    "x,y,z = np.meshgrid(np.linspace(-2,2,11), np.linspace(-2,2,11),np.linspace(-2,2,11))\n",
    "vax = -y\n",
    "vay = x\n",
    "vaz = 0 * z\n",
    "cvax = 0*x\n",
    "cvay = 0*y\n",
    "cvaz = 2*np.ones(len(z))\n",
    "\n",
    "vbx = 0*x\n",
    "vby = x\n",
    "vbz = 0*z\n",
    "cvbx = 0*x\n",
    "cvby = 0*y\n",
    "cvbz = np.ones(len(z))\n",
    "\n",
    "# Plot arrows\n",
    "ax = plt.figure().add_subplot(projection='3d')\n",
    "ax.quiver(x, y, z, vax, vay, vaz, length=0.15, arrow_length_ratio = 0.5) \n",
    "plt.show()\n",
    "\n",
    "# Plot arrows\n",
    "ax = plt.figure().add_subplot(projection='3d')\n",
    "ax.quiver(, length=0.15, arrow_length_ratio = 0.5) \n",
    "plt.show()\n",
    "\n",
    "# Plot arrows\n",
    "ax = plt.figure().add_subplot(projection='3d')\n",
    "ax.quiver(, length=0.15, arrow_length_ratio = 0.5) \n",
    "plt.show()\n",
    "\n",
    "# Plot arrows\n",
    "ax = plt.figure().add_subplot(projection='3d')\n",
    "ax.quiver(, length=0.15, arrow_length_ratio = 0.5) \n",
    "plt.show()"
   ]
  },
  {
   "cell_type": "markdown",
   "metadata": {
    "id": "qoWE-2feYGN2"
   },
   "source": [
    "What if we make a small change to $\\vec{v_b}$? Suppose, we make it\n",
    "\n",
    "$$\\vec{v_{b2}} = 0\\hat{x} + y\\hat{y} +0\\hat{z}$$\n",
    "\n",
    "<font color=red>What does this vector field look like? HINT: See Figure 1.18 in Griffiths E&M textbook. You can plot it too!\n",
    "\n",
    "Create this vector, calculate its curl.</font>"
   ]
  },
  {
   "cell_type": "code",
   "execution_count": null,
   "metadata": {
    "colab": {
     "base_uri": "https://localhost:8080/"
    },
    "executionInfo": {
     "elapsed": 139,
     "status": "ok",
     "timestamp": 1657729927959,
     "user": {
      "displayName": "Troy Messina",
      "userId": "08834187408513888437"
     },
     "user_tz": 240
    },
    "id": "4s2zPAorX29z",
    "outputId": "a5419b3f-f7ad-43c0-bb7f-3eb512e1e3d6"
   },
   "outputs": [],
   "source": [
    "vb2 = \n",
    "\n",
    "curlvb2 = \n",
    "print(curlvb2)"
   ]
  },
  {
   "cell_type": "code",
   "execution_count": null,
   "metadata": {
    "id": "MFhkXBv5ZlvY"
   },
   "outputs": [],
   "source": []
  }
 ],
 "metadata": {
  "colab": {
   "authorship_tag": "ABX9TyMCkv7la0u03naykWqCeaCG",
   "collapsed_sections": [],
   "name": "DivGradCurl.ipynb",
   "provenance": []
  },
  "kernelspec": {
   "display_name": "Python 3 (ipykernel)",
   "language": "python",
   "name": "python3"
  },
  "language_info": {
   "codemirror_mode": {
    "name": "ipython",
    "version": 3
   },
   "file_extension": ".py",
   "mimetype": "text/x-python",
   "name": "python",
   "nbconvert_exporter": "python",
   "pygments_lexer": "ipython3",
   "version": "3.8.16"
  }
 },
 "nbformat": 4,
 "nbformat_minor": 1
}
