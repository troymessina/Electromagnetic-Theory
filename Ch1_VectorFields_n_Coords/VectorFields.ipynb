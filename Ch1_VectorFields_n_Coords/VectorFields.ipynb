{
 "cells": [
  {
   "cell_type": "markdown",
   "metadata": {},
   "source": [
    "# Vector Fields"
   ]
  },
  {
   "cell_type": "code",
   "execution_count": null,
   "metadata": {},
   "outputs": [],
   "source": [
    "import numpy as np\n",
    "import matplotlib.pyplot as plt\n",
    "%matplotlib inline\n",
    "plt.rcParams[\"figure.figsize\"] = (8,8)\n",
    "plt.rcParams.update({'font.size': 16})"
   ]
  },
  {
   "cell_type": "markdown",
   "metadata": {},
   "source": [
    "## Some example vector fields\n",
    "If we want to plot a vector field that has horizontal vectors (e.g., only point along $\\hat{x}$) what would the components $a$ and $b$ of this vector field, $\\vec{v}$ look like?\n",
    "\n",
    "$$\\vec{v} = a\\hat{x} + b\\hat{y}$$\n",
    "\n",
    "Let's give your answer a try."
   ]
  },
  {
   "cell_type": "code",
   "execution_count": null,
   "metadata": {},
   "outputs": [],
   "source": [
    "#Define some cartesian x and y coordinates.\n",
    "x,y = np.meshgrid(np.linspace(-5,5,10),np.linspace(-5,5,10))\n",
    "\n",
    "vx =  #fill in an x magnitude for the vectors\n",
    "vy =  #fill in an y magnitude for the vectors\n",
    "\n",
    "plt.quiver(x,y,vx,vy)\n",
    "plt.xlabel(r'$\\hat{x}$')\n",
    "plt.ylabel(r'$\\hat{y}$')\n",
    "plt.show()"
   ]
  },
  {
   "cell_type": "markdown",
   "metadata": {},
   "source": [
    "Suppose we want the length of the vectors to continue to point along $\\hat{x}$, but we want the length to increase as the distance along the $\\hat{x}$ axis?"
   ]
  },
  {
   "cell_type": "code",
   "execution_count": null,
   "metadata": {},
   "outputs": [],
   "source": [
    "vx =  #fill in an x magnitude for the vectors\n",
    "vy =  #fill in an y magnitude for the vectors\n",
    "\n",
    "plt.quiver(x,y,vx,vy)\n",
    "plt.xlabel(r'$\\hat{x}$')\n",
    "plt.ylabel(r'$\\hat{y}$')\n",
    "plt.show()"
   ]
  },
  {
   "cell_type": "markdown",
   "metadata": {},
   "source": [
    "Now, suppose we want the vector lengths to point along $\\hat{x}$ but increase in length based upon distance along the $y$-axis."
   ]
  },
  {
   "cell_type": "code",
   "execution_count": null,
   "metadata": {},
   "outputs": [],
   "source": [
    "vx =  #fill in an x magnitude for the vectors\n",
    "vy =  #fill in an y magnitude for the vectors\n",
    "\n",
    "plt.quiver(x,y,vx,vy)\n",
    "plt.xlabel(r'$\\hat{x}$')\n",
    "plt.ylabel(r'$\\hat{y}$')\n",
    "plt.show()"
   ]
  },
  {
   "cell_type": "markdown",
   "metadata": {},
   "source": [
    "Now, suppose we want the vector lengths to point along $\\hat{x}$ but increase in length based upon distance along the $y$-axis and switch direction based upon whether $y$ is positive or negative."
   ]
  },
  {
   "cell_type": "code",
   "execution_count": null,
   "metadata": {},
   "outputs": [],
   "source": [
    "vx =  #fill in an x magnitude for the vectors\n",
    "vy =  #fill in an y magnitude for the vectors\n",
    "\n",
    "plt.quiver(x,y,vx,vy)\n",
    "plt.xlabel(r'$\\hat{x}$')\n",
    "plt.ylabel(r'$\\hat{y}$')\n",
    "plt.show()"
   ]
  },
  {
   "cell_type": "markdown",
   "metadata": {},
   "source": [
    "## Radial Unit Vectors\n",
    "We can plot radial unit vectors in 2D. We know that a radial vector points from the origin towards the edge of a circle and therefore has $x$ and $y$ components defined as follows.\n",
    "\n",
    "$$\\hat{r} = \\cos\\phi \\hat{x} + \\sin\\phi \\hat{y}\\\\\n",
    "\\left|\\hat{r}\\right|_x = \\frac{x}{\\sqrt{x^2+y^2}}= \\cos\\phi\\\\\n",
    "\\left|\\hat{r}\\right|_y = \\frac{y}{\\sqrt{x^2+y^2}}=\\sin\\phi$$\n",
    "\n",
    "What is the range of values for $\\left|\\hat{r}\\right|_x$ and $\\left|\\hat{r}\\right|_y$?"
   ]
  },
  {
   "cell_type": "code",
   "execution_count": null,
   "metadata": {},
   "outputs": [],
   "source": [
    "xlen = #fill in an x magnitude for the vectors\n",
    "ylen = #fill in an y magnitude for the vectors\n",
    "\n",
    "plt.quiver(x,y,xlen,ylen)\n",
    "plt.xlabel(r'$\\hat{x}$')\n",
    "plt.ylabel(r'$\\hat{y}$')\n",
    "plt.show()"
   ]
  },
  {
   "cell_type": "markdown",
   "metadata": {},
   "source": [
    "A very slight change, has a dramatic effect on the vector field. For example, switch plotting such that $x$ values are on the $\\hat{y}$ axis and vice versa.\n",
    "\n",
    "$$\\hat{v} = \\sin\\phi \\hat{x} + \\cos\\phi \\hat{y}\\\\\n",
    "\\left|\\hat{v}\\right|_x = \\frac{y}{\\sqrt{x^2+y^2}}= \\sin\\phi\\\\\n",
    "\\left|\\hat{v}\\right|_y = \\frac{x}{\\sqrt{x^2+y^2}}=\\cos\\phi$$"
   ]
  },
  {
   "cell_type": "code",
   "execution_count": null,
   "metadata": {},
   "outputs": [],
   "source": [
    "plt.quiver(x,y,,)#insert needed x and y vector components\n",
    "plt.xlabel(r'$\\hat{x}$')\n",
    "plt.ylabel(r'$\\hat{y}$')\n",
    "#plt.grid(True)\n",
    "#plt.hlines(y=0, xmin=-5, xmax=5, color='black',linestyles='dashed')\n",
    "#plt.vlines(x=0, ymin=-5, ymax=5, color='black',linestyles='dashed')\n",
    "plt.show()"
   ]
  },
  {
   "cell_type": "markdown",
   "metadata": {},
   "source": [
    "Or plot $-y$ values on the $\\hat{x}$ axis with $x$ values on the $\\hat{y}$ axis.\n",
    "\n",
    "$$\\hat{v} = -\\sin\\phi \\hat{x} + \\cos\\phi \\hat{y}\\\\\n",
    "\\left|\\hat{v}\\right|_x = \\frac{-y}{\\sqrt{x^2+y^2}}= -\\sin\\phi\\\\\n",
    "\\left|\\hat{v}\\right|_y = \\frac{x}{\\sqrt{x^2+y^2}}=\\cos\\phi$$"
   ]
  },
  {
   "cell_type": "code",
   "execution_count": null,
   "metadata": {},
   "outputs": [],
   "source": [
    "plt.quiver(x,y,,)#insert needed x and y vector components\n",
    "plt.xlabel(r'$\\hat{x}$')\n",
    "plt.ylabel(r'$\\hat{y}$')\n",
    "plt.show()"
   ]
  },
  {
   "cell_type": "markdown",
   "metadata": {},
   "source": [
    "The definition of $\\hat{\\phi}$ is\n",
    "$$\\hat{\\phi} = -\\sin\\phi\\hat{x} + \\cos\\phi\\hat{y}$$\n",
    "Therefore, in the last example, we took a radial vector \n",
    "$$\\hat{r} = \\cos\\phi\\hat{x} + \\sin\\phi\\hat{y}$$\n",
    "and changed it to an angular one. It is still a unit vector field because the components are normalized. Make this rotational vector field have vectors that increase in length based on their radial distance from the origin.\n",
    "\n",
    "$$\\hat{v} = \\hat{\\phi}$$"
   ]
  },
  {
   "cell_type": "code",
   "execution_count": null,
   "metadata": {},
   "outputs": [],
   "source": [
    "r = #define the vector length based on radial distance from origin\n",
    "plt.quiver(x,y, , )#insert needed x and y vector components\n",
    "plt.xlabel(r'$\\hat{x}$')\n",
    "plt.ylabel(r'$\\hat{y}$')\n",
    "plt.show()"
   ]
  },
  {
   "cell_type": "markdown",
   "metadata": {},
   "source": [
    "How would you write this vector field in cylindrical coordinate notation?\n",
    "\n",
    "$$\\vec{v} = r\\hat{\\phi}$$\n",
    "\n",
    "Plot the vector field\n",
    "\n",
    "$$\\hat{v} = -\\hat{\\phi}$$\n",
    "\n",
    "and then plot the vector field\n",
    "\n",
    "$$\\vec{v} = -r\\hat{\\phi}$$\n",
    "\n",
    "Describe the change in the vector field. Include in your description the cartesian coordinate changes made from the original radial vector."
   ]
  },
  {
   "cell_type": "code",
   "execution_count": null,
   "metadata": {},
   "outputs": [],
   "source": [
    "plt.quiver(x,y, ,)#insert needed x and y vector components\n",
    "plt.xlabel(r'$\\hat{x}$')\n",
    "plt.ylabel(r'$\\hat{y}$')\n",
    "plt.show()\n",
    "\n",
    "plt.quiver(x,y, ,)#insert needed x and y vector components\n",
    "plt.xlabel(r'$\\hat{x}$')\n",
    "plt.ylabel(r'$\\hat{y}$')\n",
    "plt.show()"
   ]
  },
  {
   "cell_type": "code",
   "execution_count": null,
   "metadata": {},
   "outputs": [],
   "source": []
  }
 ],
 "metadata": {
  "kernelspec": {
   "display_name": "Python 3 (ipykernel)",
   "language": "python",
   "name": "python3"
  },
  "language_info": {
   "codemirror_mode": {
    "name": "ipython",
    "version": 3
   },
   "file_extension": ".py",
   "mimetype": "text/x-python",
   "name": "python",
   "nbconvert_exporter": "python",
   "pygments_lexer": "ipython3",
   "version": "3.9.12"
  }
 },
 "nbformat": 4,
 "nbformat_minor": 4
}
